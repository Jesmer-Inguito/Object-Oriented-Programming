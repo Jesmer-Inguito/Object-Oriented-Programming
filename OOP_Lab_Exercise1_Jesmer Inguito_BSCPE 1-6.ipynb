{
 "cells": [
  {
   "cell_type": "markdown",
   "metadata": {},
   "source": [
    "Lab 1 Exercise 1\n",
    "\n",
    "Input an integer, determine and display 'prime' if the integer is prime else display 'not prime'."
   ]
  },
  {
   "cell_type": "code",
   "execution_count": null,
   "metadata": {},
   "outputs": [],
   "source": [
    "number = int(input(\"Enter a number: \"))\n",
    "print(\"The chosen number is\", number)\n",
    "\n",
    "if number < 2:\n",
    "    print(\"It is neither prime nor composite.\")\n",
    "\n",
    "elif number == 2:\n",
    "    print(\"This number is the smallest prime number.\")\n",
    "\n",
    "elif number % 2 == 0:\n",
    "    print(\"This is not a prime number.\")\n",
    "\n",
    "else:\n",
    "    print(\"This is a prime number.\")"
   ]
  },
  {
   "cell_type": "markdown",
   "metadata": {},
   "source": [
    "Lab 1 Exercise 2\n",
    "\n",
    "Compute for the cube of integers. "
   ]
  },
  {
   "cell_type": "code",
   "execution_count": null,
   "metadata": {},
   "outputs": [],
   "source": [
    "size = int(input(\"Enter the desired number of elements: \"))\n",
    "array = list(map(int, input().split()))\n",
    "\n",
    "if size == len(array):\n",
    "    print(\"Cubes of the numbers:\")\n",
    "    for num in array:\n",
    "        print(num ** 3)\n",
    "\n",
    "else:\n",
    "    print(\"Invalid number of elements.\")"
   ]
  },
  {
   "cell_type": "markdown",
   "metadata": {},
   "source": [
    "Lab 1 Exercise 3\n",
    "\n",
    "Generate a hollow square based on the positive integer input side length n."
   ]
  },
  {
   "cell_type": "code",
   "execution_count": 23,
   "metadata": {},
   "outputs": [
    {
     "name": "stdout",
     "output_type": "stream",
     "text": [
      "Length is: 4\n",
      "Width is: 5\n",
      "x x x x x \n",
      "x       x \n",
      "x       x \n",
      "x x x x x \n"
     ]
    }
   ],
   "source": [
    "length = int(input(\"Enter the length: \"))\n",
    "width = int(input(\"Enter the width: \"))\n",
    "\n",
    "print(\"Length is:\", length)\n",
    "print(\"Width is:\", width)\n",
    "\n",
    "for i in range(length):\n",
    "    for j in range(width):\n",
    "        if i == 0 or i == length - 1 or j == 0 or j == width - 1:\n",
    "            print(\"x\", end=\" \")\n",
    "        else:\n",
    "            print(\" \", end=\" \")\n",
    "    print()"
   ]
  },
  {
   "cell_type": "markdown",
   "metadata": {},
   "source": [
    "Lab 1 Exercise 4\n",
    "\n",
    "Generate an inverted right triangle of height n."
   ]
  },
  {
   "cell_type": "code",
   "execution_count": 24,
   "metadata": {},
   "outputs": [
    {
     "name": "stdout",
     "output_type": "stream",
     "text": [
      "* * * * * * \t\n",
      "* * * * * \t\n",
      "* * * * \t\n",
      "* * * \t\n",
      "* * \t\n",
      "* \t\n"
     ]
    }
   ],
   "source": [
    "rows = int(input(\"Enter the maximum number of rows: \"))\n",
    "\n",
    "for i in range(rows, 0, -1):\n",
    "    for j in range(0, i):\n",
    "        print(\"*\", end=\" \")\n",
    "    print(\"\\t\")"
   ]
  }
 ],
 "metadata": {
  "kernelspec": {
   "display_name": "Python 3",
   "language": "python",
   "name": "python3"
  },
  "language_info": {
   "codemirror_mode": {
    "name": "ipython",
    "version": 3
   },
   "file_extension": ".py",
   "mimetype": "text/x-python",
   "name": "python",
   "nbconvert_exporter": "python",
   "pygments_lexer": "ipython3",
   "version": "3.12.0"
  }
 },
 "nbformat": 4,
 "nbformat_minor": 2
}
